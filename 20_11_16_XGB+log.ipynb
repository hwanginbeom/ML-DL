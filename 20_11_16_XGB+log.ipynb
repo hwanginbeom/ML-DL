{
  "nbformat": 4,
  "nbformat_minor": 0,
  "metadata": {
    "colab": {
      "name": "20.11.16 XGB+log",
      "provenance": [],
      "private_outputs": true
    },
    "kernelspec": {
      "name": "python3",
      "display_name": "Python 3"
    }
  },
  "cells": [
    {
      "cell_type": "code",
      "metadata": {
        "id": "Yj6GoLdcDrmH"
      },
      "source": [
        "import pandas as pd\n",
        "from pandas import DataFrame as df\n",
        "import numpy as np\n",
        "import matplotlib.pyplot as plt\n",
        "%matplotlib inline\n",
        "import math\n",
        "import tensorflow as tf\n",
        "import keras\n",
        "import seaborn as sns\n",
        "from sklearn.preprocessing import LabelEncoder, StandardScaler\n",
        "from scipy import stats\n",
        "\n",
        "from tensorflow.keras.models import Sequential\n",
        "from tensorflow.keras.layers import Flatten, Dense, LSTM, Dropout\n",
        "from sklearn.preprocessing import MinMaxScaler\n",
        "\n",
        "from tensorflow.keras.optimizers import SGD, Adam\n",
        "\n",
        "import warnings\n",
        "warnings.filterwarnings('ignore')\n",
        "\n",
        "import xgboost as xgb\n",
        "from sklearn.model_selection import train_test_split\n",
        "from sklearn.metrics import accuracy_score\n",
        "from imblearn.over_sampling import RandomOverSampler"
      ],
      "execution_count": null,
      "outputs": []
    },
    {
      "cell_type": "code",
      "metadata": {
        "id": "dR7WO4opDtzj"
      },
      "source": [
        "from google.colab import drive\n",
        "drive.mount('/content/drive')"
      ],
      "execution_count": null,
      "outputs": []
    },
    {
      "cell_type": "code",
      "metadata": {
        "id": "b7epYK3PDu-a"
      },
      "source": [
        "train = pd.read_csv(\"/content/drive/My Drive/data/open_data/train.csv\", index_col=0)\n",
        "train['voted'] = train['voted'] \n",
        "test=pd.read_csv('/content/drive/My Drive/data/open_data/test_x.csv', index_col=0)\n",
        "submission=pd.read_csv('/content/drive/My Drive/data/open_data/sample_submission.csv', index_col=0)  \n",
        "\n",
        "#voted = 0 , unvoted = 1 으로 바꿔주기\n",
        "train.voted = train.voted - 1"
      ],
      "execution_count": null,
      "outputs": []
    },
    {
      "cell_type": "code",
      "metadata": {
        "id": "5geqO9ERD-72"
      },
      "source": [
        "Answers_time = ['QaE', 'QbE', 'QcE', 'QdE', 'QeE',\n",
        "             'QfE', 'QgE', 'QhE', 'QiE', 'QjE', \n",
        "             'QkE', 'QlE', 'QmE', 'QnE', 'QoE', \n",
        "             'QpE', 'QqE', 'QrE', 'QsE', 'QtE', 'voted']"
      ],
      "execution_count": null,
      "outputs": []
    },
    {
      "cell_type": "code",
      "metadata": {
        "id": "CLsb_Vp6EA2j"
      },
      "source": [
        "Answers_time_only = ['QaE', 'QbE', 'QcE', 'QdE', 'QeE',\n",
        "             'QfE', 'QgE', 'QhE', 'QiE', 'QjE', \n",
        "             'QkE', 'QlE', 'QmE', 'QnE', 'QoE', \n",
        "             'QpE', 'QqE', 'QrE', 'QsE', 'QtE']"
      ],
      "execution_count": null,
      "outputs": []
    },
    {
      "cell_type": "code",
      "metadata": {
        "id": "yet50UulEB_W"
      },
      "source": [
        "Answers = ['QaA', 'QbA', 'QcA', 'QdA', 'QeA',\n",
        "             'QfA', 'QgA', 'QhA', 'QiA', 'QjA', \n",
        "             'QkA', 'QlA', 'QmA', 'QnA', 'QoA', \n",
        "             'QpA', 'QqA', 'QrA', 'QsA', 'QtA']\n",
        "\n",
        "\n",
        "#data reverse\n",
        "flipping_columns = [\"QeA\", \"QfA\", \"QkA\", \"QqA\", \"QrA\"]\n",
        "for flip in flipping_columns: \n",
        "    train[flip] = 6 - train[flip]\n",
        "#secret data reverse\n",
        "flipping_secret_columns = [\"QaA\", \"QdA\", \"QgA\", \"QiA\", \"QnA\"]\n",
        "for flip in flipping_secret_columns: \n",
        "    train[flip] = 6 - train[flip]\n",
        "\n",
        "train['Mach_score'] = train[Answers].mean(axis = 1)"
      ],
      "execution_count": null,
      "outputs": []
    },
    {
      "cell_type": "code",
      "metadata": {
        "id": "4dTHxn05EEiQ"
      },
      "source": [
        "#data reverse\n",
        "flipping_columns = [\"QeA\", \"QfA\", \"QkA\", \"QqA\", \"QrA\"]\n",
        "for flip in flipping_columns: \n",
        "    test[flip] = 6 - test[flip]\n",
        "#secret data reverse\n",
        "flipping_secret_columns = [\"QaA\", \"QdA\", \"QgA\", \"QiA\", \"QnA\"]\n",
        "for flip in flipping_secret_columns: \n",
        "    test[flip] = 6 - test[flip]\n",
        "\n",
        "test['Mach_score'] = test[Answers].mean(axis = 1)"
      ],
      "execution_count": null,
      "outputs": []
    },
    {
      "cell_type": "code",
      "metadata": {
        "id": "TdFYS_OYEGhn"
      },
      "source": [
        "for i in Answers_time:\n",
        "  sns.kdeplot(train[i][train.voted == 0], color = 'b', label = \"voted\")\n",
        "  sns.kdeplot(train[i][train.voted == 1], color = 'r', label = \"unvoted\")\n",
        "  plt.title(i + ' distribution with voted')\n",
        "  plt.show()"
      ],
      "execution_count": null,
      "outputs": []
    },
    {
      "cell_type": "code",
      "metadata": {
        "id": "XESloeKcEKzz"
      },
      "source": [
        "log_Answer_time = train[Answers_time_only].copy()\n",
        "log_Answer_time[Answers_time_only] = np.log1p(train[Answers_time_only])\n",
        "train[Answers_time_only] = log_Answer_time"
      ],
      "execution_count": null,
      "outputs": []
    },
    {
      "cell_type": "code",
      "metadata": {
        "id": "omPLd1hDEOdQ"
      },
      "source": [
        "log_Answer_time_t = test[Answers_time_only].copy()\n",
        "log_Answer_time_t[Answers_time_only] = np.log1p(test[Answers_time_only])\n",
        "test[Answers_time_only] = log_Answer_time_t"
      ],
      "execution_count": null,
      "outputs": []
    },
    {
      "cell_type": "code",
      "metadata": {
        "id": "bfqbbVi2EPcp"
      },
      "source": [
        "#after log\n",
        "for i in Answers_time:\n",
        "  sns.kdeplot(train[i][train.voted == 0], color = 'b', label = \"voted\")\n",
        "  sns.kdeplot(train[i][train.voted == 1], color = 'r', label = \"unvoted\")\n",
        "  plt.title(i + ' distribution with voted')\n",
        "  plt.show()\n"
      ],
      "execution_count": null,
      "outputs": []
    },
    {
      "cell_type": "code",
      "metadata": {
        "id": "dXqfplSAEQwB"
      },
      "source": [
        "#missing 확인\n",
        "print('train : ',train.isnull().sum())\n",
        "print('test : ',test.isnull().sum())"
      ],
      "execution_count": null,
      "outputs": []
    },
    {
      "cell_type": "code",
      "metadata": {
        "id": "Aq1G6jaKEWhJ"
      },
      "source": [
        "label = LabelEncoder()\n",
        "train['gender_code'] = label.fit_transform(train['gender'])\n",
        "train['age_group_code'] = label.fit_transform(train['age_group'])\n",
        "train = pd.concat([train, pd.get_dummies(train['race'], prefix= 'race')], axis = 1, join = 'inner')\n",
        "train = pd.concat([train, pd.get_dummies(train['religion'], prefix= 'religion')], axis = 1, join = 'inner')\n",
        "\n",
        "test['gender_code'] = label.fit_transform(test['gender'])\n",
        "test['age_group_code'] = label.fit_transform(test['age_group'])\n",
        "test = pd.concat([test, pd.get_dummies(test['race'], prefix= 'race')], axis = 1, join = 'inner')\n",
        "test = pd.concat([test, pd.get_dummies(test['religion'], prefix= 'religion')], axis = 1, join = 'inner')\n"
      ],
      "execution_count": null,
      "outputs": []
    },
    {
      "cell_type": "code",
      "metadata": {
        "id": "J4zyIqmhEYpU"
      },
      "source": [
        "train = train.drop(train[train.familysize >= 20].index)\n"
      ],
      "execution_count": null,
      "outputs": []
    },
    {
      "cell_type": "code",
      "metadata": {
        "id": "evuGiL34EZtI"
      },
      "source": [
        "plt.pie((train.groupby(train['voted']).size()),\n",
        "        labels = ['uvoted', 'voted'],\n",
        "        shadow = True,\n",
        "        colors = ['r', 'royalblue'],\n",
        "        autopct='%0.2f%%',\n",
        "        startangle=90\n",
        "        )\n",
        "plt.title(\"ratio of vote\")\n",
        "plt.axis('equal')\n",
        "plt.show()"
      ],
      "execution_count": null,
      "outputs": []
    },
    {
      "cell_type": "code",
      "metadata": {
        "id": "aRKPsr3XEa30"
      },
      "source": [
        "cat_features = ['age_group', 'education', 'engnat', 'familysize', 'gender', 'hand',\n",
        "       'married', 'race', 'religion', 'urban']\n",
        "\n",
        "for i in cat_features:\n",
        "  pd.crosstab(train[i],train['voted']).plot.bar()\n",
        "  plt.title(i + ' distribution with voted')"
      ],
      "execution_count": null,
      "outputs": []
    },
    {
      "cell_type": "code",
      "metadata": {
        "id": "E5Uv3w0sEclf"
      },
      "source": [
        "sns.distplot(train.Mach_score[train.voted == 1], color = 'red', label = \"unvoted\")\n",
        "sns.distplot(train.Mach_score[train.voted == 0], color = 'b', label = \"voted\")\n",
        "\n",
        "plt.legend(title = 'voted')\n",
        "plt.show()"
      ],
      "execution_count": null,
      "outputs": []
    },
    {
      "cell_type": "code",
      "metadata": {
        "id": "2WfO3097EfWC"
      },
      "source": [
        "train = train.drop(['age_group', 'gender', 'race', 'religion'], axis = 1)\n",
        "test = test.drop(['age_group', 'gender', 'race', 'religion'], axis = 1)"
      ],
      "execution_count": null,
      "outputs": []
    },
    {
      "cell_type": "code",
      "metadata": {
        "id": "dKLlpMjQEhf9"
      },
      "source": [
        "from sklearn.preprocessing import StandardScaler\n",
        "Scaler = StandardScaler()\n",
        "\n",
        "train[Answers_time_only] = Scaler.fit_transform(train[Answers_time_only])\n",
        "test[Answers_time_only] = Scaler.fit_transform(test[Answers_time_only])"
      ],
      "execution_count": null,
      "outputs": []
    },
    {
      "cell_type": "code",
      "metadata": {
        "id": "3NeG2TdBEjOG"
      },
      "source": [
        "ros = RandomOverSampler()\n",
        "\n",
        "X = train.drop('voted', axis = 1).values\n",
        "y = train.voted.values\n",
        "\n",
        "\n",
        "\n",
        "x_train, x_valid, y_train, y_valid = train_test_split(X, y, test_size=0.2, random_state= 0)\n",
        "x_train, y_train= ros.fit_resample(x_train, y_train)\n",
        "\n",
        "d_train = xgb.DMatrix(x_train, label=y_train)\n",
        "d_valid = xgb.DMatrix(x_valid, label=y_valid)\n",
        "d_test = xgb.DMatrix(test.values)\n",
        "\n",
        "print(x_train.shape, x_valid.shape, y_train.shape, y_valid.shape )"
      ],
      "execution_count": null,
      "outputs": []
    },
    {
      "cell_type": "code",
      "metadata": {
        "id": "PhCdy25LEkmD"
      },
      "source": [
        "params = {\n",
        "        'objective':'binary:logistic',\n",
        "        'max_depth':5,\n",
        "        'learning_rate':0.1, \n",
        "        'eval_metric':'auc',\n",
        "        'min_child_weight':8,\n",
        "        'subsample':0.8,\n",
        "        'colsample_bytree':0.8,\n",
        "        'seed':29,\n",
        "#         'reg_lambda':1,\n",
        "        'reg_alpha':0,\n",
        "        'gamma':1,\n",
        "        'scale_pos_weight':1,\n",
        "        'n_estimators': 100,\n",
        "        'nthread':-1\n",
        "}\n",
        "\n",
        "watchlist = [(d_train, 'train'), (d_valid, 'valid')]\n",
        "nrounds=10000  \n",
        "model_xgb = xgb.train(params, d_train, nrounds, watchlist, early_stopping_rounds=50, \n",
        "                           maximize=True, verbose_eval=10)"
      ],
      "execution_count": null,
      "outputs": []
    },
    {
      "cell_type": "code",
      "metadata": {
        "id": "7vYoW5n-EmVo"
      },
      "source": [
        "pred_y1 = model_xgb.predict(d_test) + 1\n"
      ],
      "execution_count": null,
      "outputs": []
    },
    {
      "cell_type": "code",
      "metadata": {
        "id": "ZlGwBZf6EtKd"
      },
      "source": [
        "submission['voted'] = pred_y1"
      ],
      "execution_count": null,
      "outputs": []
    },
    {
      "cell_type": "code",
      "metadata": {
        "id": "VyTn8ymAEt5c"
      },
      "source": [
        "submission.to_csv('/content/sample_data/sample_submission.csv') \n"
      ],
      "execution_count": null,
      "outputs": []
    },
    {
      "cell_type": "code",
      "metadata": {
        "id": "gwEah5bGEzvk"
      },
      "source": [
        ""
      ],
      "execution_count": null,
      "outputs": []
    }
  ]
}