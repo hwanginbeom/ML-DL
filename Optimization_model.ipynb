{
  "nbformat": 4,
  "nbformat_minor": 0,
  "metadata": {
    "colab": {
      "name": "Optimization_model.ipynb",
      "provenance": [],
      "private_outputs": true
    },
    "kernelspec": {
      "name": "python3",
      "display_name": "Python 3"
    }
  },
  "cells": [
    {
      "cell_type": "code",
      "metadata": {
        "id": "AjHenVXKNT1W"
      },
      "source": [
        "import pandas as pd\n",
        "import numpy as np\n",
        "import datetime\n",
        "import seaborn as sns\n",
        "################################# 딥러닝 패키지 ################\n",
        "import tensorflow as tf\n",
        "import tensorflow.keras.backend as K\n",
        "from tensorflow import nn\n",
        "from tensorflow.keras.backend import shape\n",
        "from tensorflow.keras.layers import Dropout\n",
        "from tensorflow.keras.layers import Input, Dense, Flatten, Activation\n",
        "from tensorflow.keras.models import Model, Sequential, load_model\n",
        "from keras.layers import BatchNormalization\n",
        "from tensorflow.keras.utils import get_custom_objects\n",
        "from keras.callbacks import ModelCheckpoint, EarlyStopping\n",
        "from keras.utils import plot_model\n",
        "\n",
        "def Mish(x):\n",
        "    return x * K.tanh(K.softplus(x))\n",
        "\n",
        "get_custom_objects().update({'mish': Mish})\n",
        "\n",
        "####################################################################\n",
        "\n",
        "import matplotlib.pyplot as plt\n",
        "plt.rc('font', family='NanumBarunGothic') # 한글설정"
      ],
      "execution_count": null,
      "outputs": []
    },
    {
      "cell_type": "code",
      "metadata": {
        "id": "0CjRvPLXYlQz"
      },
      "source": [
        "\n",
        "# 한글설정\n",
        "plt.rc('font', family='NanumBarunGothic')\n",
        "\n",
        "# 파이썬 지수를 정수로 표현\n",
        "pd.options.display.float_format = '{:.5f}'.format\n",
        "\n",
        "# 구글 드라이브 연동\n",
        "from google.colab import drive\n",
        "drive.mount('/content/drive')\n",
        "\n",
        "# 데이터 불러오기\n",
        "\n",
        "test = pd.read_csv('/content/drive/My Drive/data/bigcorn_data/2019test_(3).csv', encoding = 'cp949')\n",
        "train = pd.read_csv('/content/drive/My Drive/data/bigcorn_data/2019train_(3).csv', encoding = 'cp949')\n",
        "\n"
      ],
      "execution_count": null,
      "outputs": []
    },
    {
      "cell_type": "code",
      "metadata": {
        "id": "GsELDmWFYqEs"
      },
      "source": [
        "train.describe()"
      ],
      "execution_count": null,
      "outputs": []
    },
    {
      "cell_type": "code",
      "metadata": {
        "id": "0xyDAhHjlOld"
      },
      "source": [
        "train = pd.read_csv('/content/drive/My Drive/data/bigcorn_data/2019train_(3).csv', encoding = 'cp949')\n"
      ],
      "execution_count": null,
      "outputs": []
    },
    {
      "cell_type": "code",
      "metadata": {
        "id": "-euCuahooqcE"
      },
      "source": [
        "value_list =[]\n",
        "count=0\n",
        "a=train[0:67]['방송일시'].tolist()\n",
        "my_list = a\n",
        "new_list = []\n",
        "for v in my_list:\n",
        "    if v not in new_list:\n",
        "        new_list.append(v)\n",
        "for i in new_list:\n",
        "    train2 = train[train['시간']==i[11:19]]\n",
        "    train3 = train2.groupby('방송일시').sum()\n",
        "    train4=train3.sort_values(by=['취급액'], axis=0, ascending=False)\n",
        "    train5 = train4[:len(train4)//4]\n",
        "    index_name= train5.index\n",
        "    count=0\n",
        "    df3 = pd.DataFrame()\n",
        "    for i in index_name:\n",
        "        df2=train2[train2['방송일시']==i]\n",
        "        df3 = pd.concat([df3,df2])\n",
        "    else:\n",
        "        if len(df3['소분류'].value_counts().index[0]) == len(df3['소분류'].value_counts().index[1]) :\n",
        "            if df3[df3['소분류']==df3['소분류'].value_counts().index[0]].sum()['취급액'] >df3[df3['소분류']==df3['소분류'].value_counts().index[1]].sum()['취급액']:\n",
        "                value_list.append([i[11:19],df3['소분류'].value_counts().index[0],df3[df3['소분류']==df3['소분류'].value_counts().index[0]].max()['상품명']])\n",
        "            else:\n",
        "                value_list.append([i[11:19],df3['소분류'].value_counts().index[1],df3[df3['소분류']==df3['소분류'].value_counts().index[1]].max()['상품명']])\n",
        "        else:\n",
        "            value_list.append([i[11:19],df3['소분류'].value_counts().index[0],df3[df3['소분류']==df3['소분류'].value_counts().index[0]].max()['상품명']])\n",
        "    \n"
      ],
      "execution_count": null,
      "outputs": []
    },
    {
      "cell_type": "code",
      "metadata": {
        "id": "Z8_8ojfk71bN"
      },
      "source": [
        "value_list"
      ],
      "execution_count": null,
      "outputs": []
    },
    {
      "cell_type": "code",
      "metadata": {
        "id": "lFe2vBiJkxEe"
      },
      "source": [
        ""
      ],
      "execution_count": null,
      "outputs": []
    },
    {
      "cell_type": "code",
      "metadata": {
        "id": "Cw72zOe7VAFq"
      },
      "source": [
        ""
      ],
      "execution_count": null,
      "outputs": []
    },
    {
      "cell_type": "code",
      "metadata": {
        "id": "clxhzw3qVNw1"
      },
      "source": [
        "new_list[0]"
      ],
      "execution_count": null,
      "outputs": []
    }
  ]
}