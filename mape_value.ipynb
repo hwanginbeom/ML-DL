{
  "nbformat": 4,
  "nbformat_minor": 0,
  "metadata": {
    "colab": {
      "name": "mape_value.ipynb",
      "provenance": [],
      "private_outputs": true
    },
    "kernelspec": {
      "name": "python3",
      "display_name": "Python 3"
    }
  },
  "cells": [
    {
      "cell_type": "code",
      "metadata": {
        "id": "v3RcpwnccKnd"
      },
      "source": [
        "import random\n",
        "import pandas as pd\n",
        "import numpy as np\n",
        "import datetime\n",
        "import seaborn as sns\n",
        "import xgboost as xgb\n",
        "from sklearn.model_selection import train_test_split\n",
        "from sklearn.model_selection import KFold\n",
        "from sklearn.model_selection import GridSearchCV\n",
        "from sklearn.model_selection import cross_val_score\n",
        "from sklearn.metrics import explained_variance_score\n",
        "from sklearn.preprocessing import OneHotEncoder, MinMaxScaler\n",
        "import lightgbm as lgb\n",
        "from sklearn.decomposition import PCA\n",
        "from sklearn.ensemble import RandomForestRegressor\n",
        "\n",
        "\n",
        "import matplotlib.pyplot as plt\n"
      ],
      "execution_count": null,
      "outputs": []
    },
    {
      "cell_type": "code",
      "metadata": {
        "id": "kwm08CA_cYMo"
      },
      "source": [
        "df = pd.read_csv('/content/drive/My Drive/data/bigcorn_data/mape.csv', encoding = 'cp949')\n"
      ],
      "execution_count": null,
      "outputs": []
    },
    {
      "cell_type": "code",
      "metadata": {
        "id": "xOJ8OH5vchxX"
      },
      "source": [
        "df2=df[df['상품군']=='가구'or df['상품군']=='가전']"
      ],
      "execution_count": null,
      "outputs": []
    },
    {
      "cell_type": "code",
      "metadata": {
        "id": "lXgN9UqmJIrt"
      },
      "source": [
        "df2"
      ],
      "execution_count": null,
      "outputs": []
    },
    {
      "cell_type": "code",
      "metadata": {
        "id": "bukyF__gdKfv"
      },
      "source": [
        "df[2400:]"
      ],
      "execution_count": null,
      "outputs": []
    },
    {
      "cell_type": "code",
      "metadata": {
        "id": "QPFOskoujua6"
      },
      "source": [
        "df[2400:].describe()"
      ],
      "execution_count": null,
      "outputs": []
    },
    {
      "cell_type": "code",
      "metadata": {
        "id": "XNDex0cUeg41"
      },
      "source": [
        "a=df[2400:].describe()"
      ],
      "execution_count": null,
      "outputs": []
    },
    {
      "cell_type": "code",
      "metadata": {
        "id": "mrkl6l23h-FQ"
      },
      "source": [
        "a.loc['mean'][0:20]"
      ],
      "execution_count": null,
      "outputs": []
    },
    {
      "cell_type": "code",
      "metadata": {
        "id": "KL0AKfw4isjn"
      },
      "source": [
        "sum(df[2400:]['판매단가']/ len(df[2400:]))"
      ],
      "execution_count": null,
      "outputs": []
    },
    {
      "cell_type": "code",
      "metadata": {
        "id": "3aRgmXeGkWJP"
      },
      "source": [
        "grouped_over = df[2400:].groupby(df['상품군'])\n",
        "grouped_all = df.groupby(df['상품군'])\n"
      ],
      "execution_count": null,
      "outputs": []
    },
    {
      "cell_type": "code",
      "metadata": {
        "id": "EzSZ33_BkzpS"
      },
      "source": [
        "grouped.size()"
      ],
      "execution_count": null,
      "outputs": []
    },
    {
      "cell_type": "code",
      "metadata": {
        "id": "Ab70iCax7RJY"
      },
      "source": [
        "grouped_all.size()"
      ],
      "execution_count": null,
      "outputs": []
    },
    {
      "cell_type": "code",
      "metadata": {
        "id": "FYTMSo5X_xOr"
      },
      "source": [
        "grouped_sum= pd.concat([grouped_all.size(), grouped.size()], axis=1)"
      ],
      "execution_count": null,
      "outputs": []
    },
    {
      "cell_type": "code",
      "metadata": {
        "id": "MQ44l7qvAuZe"
      },
      "source": [
        "grouped_sum"
      ],
      "execution_count": null,
      "outputs": []
    },
    {
      "cell_type": "code",
      "metadata": {
        "id": "58VROL4DAVdA"
      },
      "source": [
        "ratio=[]\n",
        "for i in range( len(grouped_sum)):    \n",
        "    ratio.append(grouped_sum[1][i] /grouped_sum[0][i])"
      ],
      "execution_count": null,
      "outputs": []
    },
    {
      "cell_type": "code",
      "metadata": {
        "id": "GuNJ7CTECSyv"
      },
      "source": [
        "ratio"
      ],
      "execution_count": null,
      "outputs": []
    },
    {
      "cell_type": "code",
      "metadata": {
        "id": "XP9eRtvVlD6C"
      },
      "source": [
        "grouped.mean()"
      ],
      "execution_count": null,
      "outputs": []
    },
    {
      "cell_type": "code",
      "metadata": {
        "id": "IOfx8-qE_eBE"
      },
      "source": [
        "df[2400:]"
      ],
      "execution_count": null,
      "outputs": []
    },
    {
      "cell_type": "code",
      "metadata": {
        "id": "cSaIXEelDHMz"
      },
      "source": [
        "df[df['상품군']=='의류']"
      ],
      "execution_count": null,
      "outputs": []
    },
    {
      "cell_type": "code",
      "metadata": {
        "id": "d8HTGvatqfKB"
      },
      "source": [
        "n_df=df[(df['판매단가'] < 530000)]"
      ],
      "execution_count": null,
      "outputs": []
    },
    {
      "cell_type": "code",
      "metadata": {
        "id": "8ePOFrQ8qYU5"
      },
      "source": [
        "n_df.to_csv(\"/content/drive/My Drive/data/bigcorn_data/530000under.csv\")\n"
      ],
      "execution_count": null,
      "outputs": []
    },
    {
      "cell_type": "code",
      "metadata": {
        "id": "PfafCzicn_YX"
      },
      "source": [
        "sum(df[(df['판매단가'] > 530000)]['MAPE'])/len(df[(df['판매단가'] > 530000)])"
      ],
      "execution_count": null,
      "outputs": []
    },
    {
      "cell_type": "code",
      "metadata": {
        "id": "rartC1U8p9jy"
      },
      "source": [
        "len(df[(df['판매단가'] > 530000)])"
      ],
      "execution_count": null,
      "outputs": []
    },
    {
      "cell_type": "code",
      "metadata": {
        "id": "LhKwenwTowmi"
      },
      "source": [
        "sum(df[(df['판매단가'] < 530000)]['MAPE'])/len(df[(df['판매단가'] < 530000)])"
      ],
      "execution_count": null,
      "outputs": []
    },
    {
      "cell_type": "code",
      "metadata": {
        "id": "ENlrVdSspUhX"
      },
      "source": [
        "len(df[(df['판매단가'] < 530000)])"
      ],
      "execution_count": null,
      "outputs": []
    },
    {
      "cell_type": "code",
      "metadata": {
        "id": "mOyN21Cnp8fb"
      },
      "source": [
        ""
      ],
      "execution_count": null,
      "outputs": []
    }
  ]
}