{
  "nbformat": 4,
  "nbformat_minor": 0,
  "metadata": {
    "colab": {
      "name": "Auto ML.ipynb",
      "provenance": [],
      "private_outputs": true
    },
    "kernelspec": {
      "name": "python3",
      "display_name": "Python 3"
    },
    "accelerator": "GPU"
  },
  "cells": [
    {
      "cell_type": "code",
      "metadata": {
        "id": "uvmz8AQgk-Wq"
      },
      "source": [
        "path = '/content/drive/My Drive/data/open_data/'"
      ],
      "execution_count": null,
      "outputs": []
    },
    {
      "cell_type": "code",
      "metadata": {
        "id": "u0ujdKbRlZ3G"
      },
      "source": [
        "import os\n",
        "os.listdir(path)"
      ],
      "execution_count": null,
      "outputs": []
    },
    {
      "cell_type": "code",
      "metadata": {
        "id": "ixEwS_-VlaQG"
      },
      "source": [
        "import pandas as pd\n",
        "train = pd.read_csv(path + 'train.csv')\n",
        "test = pd.read_csv(path + 'test_x.csv')\n",
        "submission = pd.read_csv(path + 'sample_submission.csv')"
      ],
      "execution_count": null,
      "outputs": []
    },
    {
      "cell_type": "code",
      "metadata": {
        "id": "XPPCvodRlb8S"
      },
      "source": [
        "print(train.shape)\n",
        "print(test.shape)\n",
        "print(submission.shape)\n"
      ],
      "execution_count": null,
      "outputs": []
    },
    {
      "cell_type": "code",
      "metadata": {
        "id": "6JpKPFVXldId"
      },
      "source": [
        "!pip install pycaret\n"
      ],
      "execution_count": null,
      "outputs": []
    },
    {
      "cell_type": "code",
      "metadata": {
        "id": "3TYXSwcFle6e"
      },
      "source": [
        "from pycaret.classification import *\n"
      ],
      "execution_count": null,
      "outputs": []
    },
    {
      "cell_type": "code",
      "metadata": {
        "id": "lzNgXBiKlf8X"
      },
      "source": [
        "clf = setup(data = train, target = 'voted')"
      ],
      "execution_count": null,
      "outputs": []
    },
    {
      "cell_type": "code",
      "metadata": {
        "id": "UmVtPS3nynFk"
      },
      "source": [
        "best_3 = compare_models(sort = 'AUC', n_select = 3)"
      ],
      "execution_count": null,
      "outputs": []
    },
    {
      "cell_type": "code",
      "metadata": {
        "id": "iaOdhFnWl3kB"
      },
      "source": [
        "best_3 = compare_models(sort = 'AUC', n_select = 3)"
      ],
      "execution_count": null,
      "outputs": []
    },
    {
      "cell_type": "code",
      "metadata": {
        "id": "Pu-fX7uVmaoO"
      },
      "source": [
        "blended = blend_models(estimator_list = best_3, fold = 5, method = 'soft')"
      ],
      "execution_count": null,
      "outputs": []
    },
    {
      "cell_type": "code",
      "metadata": {
        "id": "QQHYzulzmkMk"
      },
      "source": [
        "pred_holdout = predict_model(blended)"
      ],
      "execution_count": null,
      "outputs": []
    },
    {
      "cell_type": "code",
      "metadata": {
        "id": "bN05qm58mlxG"
      },
      "source": [
        "final_model = finalize_model(blended)"
      ],
      "execution_count": null,
      "outputs": []
    },
    {
      "cell_type": "code",
      "metadata": {
        "id": "5VV1WeBFmmuu"
      },
      "source": [
        "predictions = predict_model(final_model, data = test)"
      ],
      "execution_count": null,
      "outputs": []
    },
    {
      "cell_type": "code",
      "metadata": {
        "id": "ZciA2JTL0dMC"
      },
      "source": [
        "y_pred = xgb.predict(X_test)\n",
        "pred_y = xgb.predict(test_feature)\n",
        "\n",
        "print('AUC      : ' , roc_auc_score(y_test, y_pred))"
      ],
      "execution_count": null,
      "outputs": []
    },
    {
      "cell_type": "code",
      "metadata": {
        "id": "xNtpJBv3mn97"
      },
      "source": [
        "predictions"
      ],
      "execution_count": null,
      "outputs": []
    },
    {
      "cell_type": "code",
      "metadata": {
        "id": "x2BSoc3ImpHI"
      },
      "source": [
        "submission['voted'] = predictions['Score']\n"
      ],
      "execution_count": null,
      "outputs": []
    },
    {
      "cell_type": "code",
      "metadata": {
        "id": "JzaEbpZ0mp_b"
      },
      "source": [
        "submission.to_csv('submission_proba.csv', index = False)"
      ],
      "execution_count": null,
      "outputs": []
    }
  ]
}