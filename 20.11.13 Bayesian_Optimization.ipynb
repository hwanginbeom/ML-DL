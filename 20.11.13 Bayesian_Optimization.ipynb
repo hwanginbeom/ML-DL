{
  "nbformat": 4,
  "nbformat_minor": 0,
  "metadata": {
    "colab": {
      "name": "Bayesian Optimization.ipynb",
      "provenance": [],
      "private_outputs": true
    },
    "kernelspec": {
      "name": "python3",
      "display_name": "Python 3"
    },
    "accelerator": "GPU"
  },
  "cells": [
    {
      "cell_type": "code",
      "metadata": {
        "id": "cqQTSeT_c4oJ"
      },
      "source": [
        "from google.colab import drive\n",
        "drive.mount('/content/drive')"
      ],
      "execution_count": null,
      "outputs": []
    },
    {
      "cell_type": "code",
      "metadata": {
        "id": "9s7-PjJMc0HS"
      },
      "source": [
        "import pandas as pd\n",
        "import numpy as np"
      ],
      "execution_count": null,
      "outputs": []
    },
    {
      "cell_type": "code",
      "metadata": {
        "id": "QRA4rVkdc8ZC"
      },
      "source": [
        "train=pd.read_csv('/content/drive/My Drive/data/open_data/train.csv', index_col=0)\n",
        "test=pd.read_csv('/content/drive/My Drive/data/open_data/test_x.csv', index_col=0)\n",
        "submission=pd.read_csv('/content/drive/My Drive/data/open_data/sample_submission.csv', index_col=0)  \n",
        "\n"
      ],
      "execution_count": null,
      "outputs": []
    },
    {
      "cell_type": "code",
      "metadata": {
        "id": "B_ZLy_bwdKEM"
      },
      "source": [
        "X = train.drop('voted', axis = 1)\n",
        "y = train['voted']"
      ],
      "execution_count": null,
      "outputs": []
    },
    {
      "cell_type": "code",
      "metadata": {
        "id": "moaW3txFdaNc"
      },
      "source": [
        "print(X.race.value_counts())\n"
      ],
      "execution_count": null,
      "outputs": []
    },
    {
      "cell_type": "code",
      "metadata": {
        "id": "4mHmlJ-Ldfie"
      },
      "source": [
        "print(X.age_group.value_counts())\n"
      ],
      "execution_count": null,
      "outputs": []
    },
    {
      "cell_type": "code",
      "metadata": {
        "id": "5hGqkkcddgb_"
      },
      "source": [
        "print(X.gender.value_counts())\n"
      ],
      "execution_count": null,
      "outputs": []
    },
    {
      "cell_type": "code",
      "metadata": {
        "id": "ocpIohFkdhR8"
      },
      "source": [
        "print(X.religion.value_counts())\n"
      ],
      "execution_count": null,
      "outputs": []
    },
    {
      "cell_type": "code",
      "metadata": {
        "id": "OkgiHp27diCO"
      },
      "source": [
        "print(\"원본 데이터 칼럼 : \", list(X.columns), \"\\n\")\n",
        "X_dummies = pd.get_dummies(X)\n",
        "print(\"get_dummies된 데이터 칼럼 : \", list(X_dummies.columns))"
      ],
      "execution_count": null,
      "outputs": []
    },
    {
      "cell_type": "code",
      "metadata": {
        "id": "tk1HbKOndjjg"
      },
      "source": [
        "print(\"X: {}\\tX_dummies: {}\".format(X.shape, X_dummies.shape))\n"
      ],
      "execution_count": null,
      "outputs": []
    },
    {
      "cell_type": "code",
      "metadata": {
        "id": "U_DAhBLgeUpg"
      },
      "source": [
        "X = pd.get_dummies(X)"
      ],
      "execution_count": null,
      "outputs": []
    },
    {
      "cell_type": "code",
      "metadata": {
        "id": "fAB3iZDqdl7K"
      },
      "source": [
        "test = pd.get_dummies(test)\n",
        "test.shape"
      ],
      "execution_count": null,
      "outputs": []
    },
    {
      "cell_type": "code",
      "metadata": {
        "id": "5QlQD7z3dnTS"
      },
      "source": [
        "# 칼럼 개수 변화\n",
        "print(\"X : {}\\ntest : {}\".format(X.shape, test.shape))\n",
        "# 인코딩 확인\n",
        "print(\"Encoding Success\") if list(X.columns) == list(test.columns) else list(test.columns)\n"
      ],
      "execution_count": null,
      "outputs": []
    },
    {
      "cell_type": "code",
      "metadata": {
        "id": "XAidF49Fdr2Y"
      },
      "source": [
        "# nan 값 메꾸기\n",
        "X = X.fillna(X.mean())\n",
        "# 중복 값 제거\n",
        "X.drop_duplicates(keep='first', inplace = True)\n",
        "# 비교 -> nan 없음\n",
        "X.shape"
      ],
      "execution_count": null,
      "outputs": []
    },
    {
      "cell_type": "code",
      "metadata": {
        "id": "HGKIiFqleARu"
      },
      "source": [
        "from sklearn.preprocessing import MinMaxScaler\n",
        "# 데이터 스케일링 -> 민맥스/스텐다드 모두 성능 비슷함\n",
        "scaler=MinMaxScaler()\n",
        "scaler.fit(X)\n",
        "X=scaler.transform(X)\n",
        "# 테스트 데이터도 동일 스케일러로\n",
        "test=scaler.transform(test)"
      ],
      "execution_count": null,
      "outputs": []
    },
    {
      "cell_type": "code",
      "metadata": {
        "id": "eQHcbcHSef6l"
      },
      "source": [
        "!pip install bayesian-optimization"
      ],
      "execution_count": null,
      "outputs": []
    },
    {
      "cell_type": "code",
      "metadata": {
        "id": "VQGrZlPyeBX1"
      },
      "source": [
        "import lightgbm as lgbm\n",
        "from bayes_opt import BayesianOptimization\n",
        "from sklearn.metrics import roc_auc_score, make_scorer\n",
        "from sklearn.model_selection import cross_validate"
      ],
      "execution_count": null,
      "outputs": []
    },
    {
      "cell_type": "code",
      "metadata": {
        "id": "xu3BHFlfeboC"
      },
      "source": [
        "#목적함수 생성\n",
        "def lgbm_cv(learning_rate, num_leaves, max_depth, min_child_weight, colsample_bytree, feature_fraction, bagging_fraction, lambda_l1, lambda_l2):\n",
        "    model = lgbm.LGBMClassifier(learning_rate=learning_rate,\n",
        "                                n_estimators = 300,\n",
        "                                #boosting = 'dart',\n",
        "                                num_leaves = int(round(num_leaves)),\n",
        "                                max_depth = int(round(max_depth)),\n",
        "                                min_child_weight = int(round(min_child_weight)),\n",
        "                                colsample_bytree = colsample_bytree,\n",
        "                                feature_fraction = max(min(feature_fraction, 1), 0),\n",
        "                                bagging_fraction = max(min(bagging_fraction, 1), 0),\n",
        "                                lambda_l1 = max(lambda_l1, 0),\n",
        "                                lambda_l2 = max(lambda_l2, 0)\n",
        "                               )\n",
        "    scoring = {'roc_auc_score': make_scorer(roc_auc_score)}\n",
        "    result = cross_validate(model, X, y, cv=5, scoring=scoring)\n",
        "    auc_score = result[\"test_roc_auc_score\"].mean()\n",
        "    return auc_score"
      ],
      "execution_count": null,
      "outputs": []
    },
    {
      "cell_type": "code",
      "metadata": {
        "id": "2bigAgiieryF"
      },
      "source": [
        "# 입력값의 탐색 대상 구간\n",
        "pbounds = {'learning_rate' : (0.0001, 0.05),\n",
        "           'num_leaves': (300, 600),\n",
        "           'max_depth': (2, 25),\n",
        "           'min_child_weight': (30, 100),\n",
        "           'colsample_bytree': (0, 0.99),\n",
        "           'feature_fraction': (0.90, 0.99),\n",
        "           'bagging_fraction': (0.70, 0.99),\n",
        "           'lambda_l1' : (0, 0.99),\n",
        "           'lambda_l2' : (0, 0.99),\n",
        "          }"
      ],
      "execution_count": null,
      "outputs": []
    },
    {
      "cell_type": "code",
      "metadata": {
        "id": "XL7NFFoAetYi"
      },
      "source": [
        "lgbmBO = BayesianOptimization(f = lgbm_cv, pbounds = pbounds, verbose = 2, random_state = 0 )\n"
      ],
      "execution_count": null,
      "outputs": []
    },
    {
      "cell_type": "code",
      "metadata": {
        "id": "UBXjSgFNevWx"
      },
      "source": [
        "lgbmBO.maximize(init_points=5, n_iter = 20, acq='ei', xi=0.01)\n"
      ],
      "execution_count": null,
      "outputs": []
    },
    {
      "cell_type": "code",
      "metadata": {
        "id": "AWx_QR7Zew-J"
      },
      "source": [
        "lgbmBO.max"
      ],
      "execution_count": null,
      "outputs": []
    },
    {
      "cell_type": "code",
      "metadata": {
        "id": "5Z77u2v-fHCG"
      },
      "source": [
        "#파라미터 적용\n",
        "fit_lgbm = lgbm.LGBMClassifier(learning_rate=lgbmBO.max['params']['learning_rate'],\n",
        "                               num_leaves = int(round(lgbmBO.max['params']['num_leaves'])),\n",
        "                               max_depth = int(round(lgbmBO.max['params']['max_depth'])),\n",
        "                               min_child_weight = int(round(lgbmBO.max['params']['min_child_weight'])),\n",
        "                               colsample_bytree=lgbmBO.max['params']['colsample_bytree'],\n",
        "                               feature_fraction = max(min(lgbmBO.max['params']['feature_fraction'], 1), 0),\n",
        "                               bagging_fraction = max(min(lgbmBO.max['params']['bagging_fraction'], 1), 0),\n",
        "                               lambda_l1 = lgbmBO.max['params']['lambda_l1'],\n",
        "                               lambda_l2 = lgbmBO.max['params']['lambda_l2']\n",
        "                               )"
      ],
      "execution_count": null,
      "outputs": []
    },
    {
      "cell_type": "code",
      "metadata": {
        "id": "PpCsBlA1fVlS"
      },
      "source": [
        "model = fit_lgbm.fit(X,y)\n"
      ],
      "execution_count": null,
      "outputs": []
    },
    {
      "cell_type": "code",
      "metadata": {
        "id": "nZ09kSkze-6N"
      },
      "source": [
        "import joblib\n",
        "joblib.dump(model, 'lgbmBO_201006.pkl')"
      ],
      "execution_count": null,
      "outputs": []
    },
    {
      "cell_type": "code",
      "metadata": {
        "id": "neN2iOgZfXga"
      },
      "source": [
        "pred_y = model.predict(test)\n"
      ],
      "execution_count": null,
      "outputs": []
    },
    {
      "cell_type": "code",
      "metadata": {
        "id": "sblyUm4DfYkz"
      },
      "source": [
        "submission['voted']=pred_y\n",
        "submission.to_csv('lgbmBO_201006.csv')"
      ],
      "execution_count": null,
      "outputs": []
    },
    {
      "cell_type": "code",
      "metadata": {
        "id": "n5hOuMmmkI8k"
      },
      "source": [
        ""
      ],
      "execution_count": null,
      "outputs": []
    }
  ]
}