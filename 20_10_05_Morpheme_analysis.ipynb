{
  "nbformat": 4,
  "nbformat_minor": 0,
  "metadata": {
    "colab": {
      "name": "20.10.05_Morpheme_analysis.ipynb",
      "provenance": [],
      "private_outputs": true,
      "collapsed_sections": [],
      "toc_visible": true
    },
    "kernelspec": {
      "name": "python3",
      "display_name": "Python 3"
    }
  },
  "cells": [
    {
      "cell_type": "code",
      "metadata": {
        "id": "brFJ2NZU9LeI"
      },
      "source": [
        "!sudo apt-get install -y fonts-nanum\n",
        "!sudo fc-cache -fv\n",
        "!rm ~/.cache/matplotlib -rf"
      ],
      "execution_count": null,
      "outputs": []
    },
    {
      "cell_type": "code",
      "metadata": {
        "id": "WP-LPwznGiMx"
      },
      "source": [
        "import pandas as pd\n",
        "import numpy as np\n",
        "from collections import Counter\n",
        "from wordcloud import WordCloud\n",
        "import matplotlib.pyplot as plt\n",
        "import seaborn as sns\n",
        "from pandas import DataFrame\n",
        "import matplotlib.font_manager as fm\n"
      ],
      "execution_count": null,
      "outputs": []
    },
    {
      "cell_type": "code",
      "metadata": {
        "id": "mishAjknbysA"
      },
      "source": [
        "pip install konlpy"
      ],
      "execution_count": null,
      "outputs": []
    },
    {
      "cell_type": "code",
      "metadata": {
        "id": "OWvjRx79b5vF"
      },
      "source": [
        "from konlpy.tag import Okt"
      ],
      "execution_count": null,
      "outputs": []
    },
    {
      "cell_type": "code",
      "metadata": {
        "id": "UjdydghFHMs_"
      },
      "source": [
        "data = pd.read_excel('/content/drive/My Drive/공모전/data/mk_news_201901_202006.xlsx')\n"
      ],
      "execution_count": null,
      "outputs": []
    },
    {
      "cell_type": "code",
      "metadata": {
        "id": "LpyzIV-tHZn1"
      },
      "source": [
        "data"
      ],
      "execution_count": null,
      "outputs": []
    },
    {
      "cell_type": "markdown",
      "metadata": {
        "id": "ommeic8kUyW7"
      },
      "source": [
        "# 방송이라는 title로 나눠서보기"
      ]
    },
    {
      "cell_type": "code",
      "metadata": {
        "id": "am_M2_4WJj0e"
      },
      "source": [
        "brodcast = data[data['title1']=='방송/TV']"
      ],
      "execution_count": null,
      "outputs": []
    },
    {
      "cell_type": "markdown",
      "metadata": {
        "id": "XRzgQz_-Zn9u"
      },
      "source": [
        "# 특정기간으로 나누기"
      ]
    },
    {
      "cell_type": "code",
      "metadata": {
        "id": "Y0yCU158V-aj"
      },
      "source": [
        "brodcast_test = brodcast[brodcast['pubdate'] >20190630]\n",
        "brodcast_test = brodcast_test[brodcast_test['pubdate'] < 20190730]\n"
      ],
      "execution_count": null,
      "outputs": []
    },
    {
      "cell_type": "code",
      "metadata": {
        "id": "k_3GqrAIXoFL"
      },
      "source": [
        "brodcast_test"
      ],
      "execution_count": null,
      "outputs": []
    },
    {
      "cell_type": "markdown",
      "metadata": {
        "id": "8rDXJ9gndrNs"
      },
      "source": [
        "# 형태소 분석"
      ]
    },
    {
      "cell_type": "code",
      "metadata": {
        "id": "BmKUpxLHJq26"
      },
      "source": [
        "okt = Okt() # 객체선언 "
      ],
      "execution_count": null,
      "outputs": []
    },
    {
      "cell_type": "code",
      "metadata": {
        "id": "fOYzK-5qh3c0"
      },
      "source": [
        "noun=[]"
      ],
      "execution_count": null,
      "outputs": []
    },
    {
      "cell_type": "code",
      "metadata": {
        "id": "NcTfwh7N-p-2"
      },
      "source": [
        "brodcast_test.index[0]"
      ],
      "execution_count": null,
      "outputs": []
    },
    {
      "cell_type": "code",
      "metadata": {
        "id": "5jOtwk0A-kb3"
      },
      "source": [
        "for i in range(len(brodcast_test)):\n",
        "    noun+=okt.nouns(brodcast_test.loc[brodcast_test.index[i]]['body'])"
      ],
      "execution_count": null,
      "outputs": []
    },
    {
      "cell_type": "code",
      "metadata": {
        "id": "XSkPyhF0d_Qx"
      },
      "source": [
        "stopwords = ['의','가','이','은','들','는','좀','잘','걍','과','도','를','으로','자','에','와','한','하다']\n"
      ],
      "execution_count": null,
      "outputs": []
    },
    {
      "cell_type": "code",
      "metadata": {
        "id": "GYJMKg-7eNMg"
      },
      "source": [
        "for i,v in enumerate(noun):\n",
        "    if len(v)<2:\n",
        "        noun.pop(i)\n"
      ],
      "execution_count": null,
      "outputs": []
    },
    {
      "cell_type": "code",
      "metadata": {
        "id": "h4U8d3RPeU-3"
      },
      "source": [
        "stopwords = ['매일경제','투데이', '기자','상','의','가','이','은','들','는','좀','잘','걍','과','도','를','으로','자','에','와','한','하다','그','말','고','것']\n",
        "unique_Noun_words = set(noun)\n",
        "for word in unique_Noun_words:\n",
        "    if word in stopwords:\n",
        "        while word in noun: noun.remove(word)  # 최종결과 : Noun_words"
      ],
      "execution_count": null,
      "outputs": []
    },
    {
      "cell_type": "code",
      "metadata": {
        "id": "6VdA0Ws5gxmF"
      },
      "source": [
        "count = Counter(noun) # 카운트를 세고\n",
        "\n",
        "noun_list = count.most_common(100) #가장 많이 나타난 상위 100개를 출력"
      ],
      "execution_count": null,
      "outputs": []
    },
    {
      "cell_type": "code",
      "metadata": {
        "id": "p8eKOBUh90N-"
      },
      "source": [
        "noun_list"
      ],
      "execution_count": null,
      "outputs": []
    },
    {
      "cell_type": "markdown",
      "metadata": {
        "id": "bKV3GycvnbMl"
      },
      "source": [
        "# 워드클라우드"
      ]
    },
    {
      "cell_type": "code",
      "metadata": {
        "id": "r_dvG3D0g54U"
      },
      "source": [
        "wc = WordCloud(max_font_size=100,font_path='/content/drive/My Drive/NanumFontSetup_TTF_ALL/NanumBarunGothic-YetHangul.ttf',width=1000,height=1000)\n",
        "\n",
        "# Display the generated image:\n",
        "# the matplotlib way:\n",
        "wc.generate_from_frequencies(dict(noun_list))\n",
        "fig = plt.figure()\n",
        "plt.imshow(wc, interpolation='bilinear')\n",
        "plt.axis('off')"
      ],
      "execution_count": null,
      "outputs": []
    },
    {
      "cell_type": "code",
      "metadata": {
        "id": "yfu_w-C2izia"
      },
      "source": [
        "# Display the generated image:\n",
        "# the matplotlib way:\n",
        "\n",
        "wc.generate_from_frequencies(dict(noun_list))\n",
        "wc.to_file('wordcloude_nuews.png')"
      ],
      "execution_count": null,
      "outputs": []
    },
    {
      "cell_type": "markdown",
      "metadata": {
        "id": "COmXOVHY0Tpy"
      },
      "source": [
        "# barplot 그리기"
      ]
    },
    {
      "cell_type": "code",
      "metadata": {
        "id": "6bCOFcRfnFJV"
      },
      "source": [
        "list_name = []\n",
        "list_value = []\n",
        "count = 0\n",
        "for i in noun_list:\n",
        "    list_name.append(i[0])\n",
        "    list_value.append(i[1])\n",
        "    count +=1\n",
        "    if count==10:\n",
        "        break"
      ],
      "execution_count": null,
      "outputs": []
    },
    {
      "cell_type": "code",
      "metadata": {
        "id": "AZs2mimq3ZBW"
      },
      "source": [
        "df1 = DataFrame(data={'name':list_name,'value':list_value})"
      ],
      "execution_count": null,
      "outputs": []
    },
    {
      "cell_type": "code",
      "metadata": {
        "id": "JdT-_w91012X"
      },
      "source": [
        "df1"
      ],
      "execution_count": null,
      "outputs": []
    },
    {
      "cell_type": "code",
      "metadata": {
        "id": "699LUFQ06ZDO"
      },
      "source": [
        "font_list = [font.name for font in fm.fontManager.ttflist]\n",
        "font_list"
      ],
      "execution_count": null,
      "outputs": []
    },
    {
      "cell_type": "code",
      "metadata": {
        "id": "AFs8Ws4y7iqZ"
      },
      "source": [
        "plt.rc('font', family='NanumBarunGothic') # 한글설정"
      ],
      "execution_count": null,
      "outputs": []
    },
    {
      "cell_type": "code",
      "metadata": {
        "id": "W6ajMrGo0-sr"
      },
      "source": [
        "sns.barplot(\n",
        "    data= df1,\n",
        "    x= \"name\",\n",
        "    y= \"value\",\n",
        ")\n",
        "plt.show()"
      ],
      "execution_count": null,
      "outputs": []
    },
    {
      "cell_type": "code",
      "metadata": {
        "id": "Uxm54cZT1PAA"
      },
      "source": [
        ""
      ],
      "execution_count": null,
      "outputs": []
    }
  ]
}