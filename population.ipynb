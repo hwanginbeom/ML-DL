{
 "cells": [
  {
   "cell_type": "markdown",
   "metadata": {},
   "source": [
    "# 인구수 관련 전처리\n",
    "- total_population.csv 파일 생성"
   ]
  },
  {
   "cell_type": "code",
   "execution_count": 4,
   "metadata": {},
   "outputs": [
    {
     "name": "stdout",
     "output_type": "stream",
     "text": [
      "Defaulting to user installation because normal site-packages is not writeable\n",
      "Requirement already satisfied: pandas in /home/kdx007/.local/lib/python3.8/site-packages (1.1.3)\n",
      "Requirement already satisfied: python-dateutil>=2.7.3 in /usr/local/lib/python3.8/dist-packages (from pandas) (2.8.1)\n",
      "Requirement already satisfied: pytz>=2017.2 in /home/kdx007/.local/lib/python3.8/site-packages (from pandas) (2020.1)\n",
      "Requirement already satisfied: numpy>=1.15.4 in /home/kdx007/.local/lib/python3.8/site-packages (from pandas) (1.19.2)\n",
      "Requirement already satisfied: six>=1.5 in /usr/local/lib/python3.8/dist-packages (from python-dateutil>=2.7.3->pandas) (1.15.0)\n",
      "Note: you may need to restart the kernel to use updated packages.\n"
     ]
    }
   ],
   "source": [
    "pip install pandas"
   ]
  },
  {
   "cell_type": "code",
   "execution_count": 5,
   "metadata": {},
   "outputs": [
    {
     "name": "stdout",
     "output_type": "stream",
     "text": [
      "Defaulting to user installation because normal site-packages is not writeable\n",
      "Requirement already satisfied: numpy in /home/kdx007/.local/lib/python3.8/site-packages (1.19.2)\n",
      "Note: you may need to restart the kernel to use updated packages.\n"
     ]
    }
   ],
   "source": [
    "pip install numpy"
   ]
  },
  {
   "cell_type": "code",
   "execution_count": 1,
   "metadata": {},
   "outputs": [],
   "source": [
    "import pandas as pd\n",
    "import numpy as np"
   ]
  },
  {
   "cell_type": "code",
   "execution_count": 6,
   "metadata": {},
   "outputs": [],
   "source": [
    "data1 = pd.read_csv('../sample/Samsungcard.csv',encoding='ISO-8859-1')\n",
    "data1 = pd.read_excel('../sample/가구주의_성_연령별_추계가구전국.xlsx')\n",
    "data2 = pd.read_excel('../sample/연령_및_성별_인구__읍면동_2015.xlsx',header=1)\n",
    "data3 = pd.read_excel('../sample/총조사인구_총괄_시도_성_연령별.xlsx')\n"
   ]
  },
  {
   "cell_type": "code",
   "execution_count": 7,
   "metadata": {
    "scrolled": true
   },
   "outputs": [
    {
     "data": {
      "text/html": [
       "<div>\n",
       "<style scoped>\n",
       "    .dataframe tbody tr th:only-of-type {\n",
       "        vertical-align: middle;\n",
       "    }\n",
       "\n",
       "    .dataframe tbody tr th {\n",
       "        vertical-align: top;\n",
       "    }\n",
       "\n",
       "    .dataframe thead th {\n",
       "        text-align: right;\n",
       "    }\n",
       "</style>\n",
       "<table border=\"1\" class=\"dataframe\">\n",
       "  <thead>\n",
       "    <tr style=\"text-align: right;\">\n",
       "      <th></th>\n",
       "      <th>¼ÒºñÀÏÀÚ</th>\n",
       "      <th>¼Òºñ¾÷Á¾</th>\n",
       "      <th>¼ºº°</th>\n",
       "      <th>¿¬·É´ë</th>\n",
       "      <th>¼Òºñ°Ç¼ö</th>\n",
       "    </tr>\n",
       "  </thead>\n",
       "  <tbody>\n",
       "    <tr>\n",
       "      <th>0</th>\n",
       "      <td>20190101</td>\n",
       "      <td>°¡Àü/°¡±¸</td>\n",
       "      <td>³²¼º</td>\n",
       "      <td>20´ë</td>\n",
       "      <td>5529</td>\n",
       "    </tr>\n",
       "    <tr>\n",
       "      <th>1</th>\n",
       "      <td>20190101</td>\n",
       "      <td>°¡Àü/°¡±¸</td>\n",
       "      <td>³²¼º</td>\n",
       "      <td>30´ë</td>\n",
       "      <td>17536</td>\n",
       "    </tr>\n",
       "    <tr>\n",
       "      <th>2</th>\n",
       "      <td>20190101</td>\n",
       "      <td>°¡Àü/°¡±¸</td>\n",
       "      <td>³²¼º</td>\n",
       "      <td>40´ë</td>\n",
       "      <td>22838</td>\n",
       "    </tr>\n",
       "    <tr>\n",
       "      <th>3</th>\n",
       "      <td>20190101</td>\n",
       "      <td>°¡Àü/°¡±¸</td>\n",
       "      <td>³²¼º</td>\n",
       "      <td>50´ë</td>\n",
       "      <td>15801</td>\n",
       "    </tr>\n",
       "    <tr>\n",
       "      <th>4</th>\n",
       "      <td>20190101</td>\n",
       "      <td>°¡Àü/°¡±¸</td>\n",
       "      <td>³²¼º</td>\n",
       "      <td>60´ë</td>\n",
       "      <td>6772</td>\n",
       "    </tr>\n",
       "    <tr>\n",
       "      <th>...</th>\n",
       "      <td>...</td>\n",
       "      <td>...</td>\n",
       "      <td>...</td>\n",
       "      <td>...</td>\n",
       "      <td>...</td>\n",
       "    </tr>\n",
       "    <tr>\n",
       "      <th>76575</th>\n",
       "      <td>20200630</td>\n",
       "      <td>ÇÒÀÎÁ¡/¸¶Æ®</td>\n",
       "      <td>¿©¼º</td>\n",
       "      <td>20´ë</td>\n",
       "      <td>142108</td>\n",
       "    </tr>\n",
       "    <tr>\n",
       "      <th>76576</th>\n",
       "      <td>20200630</td>\n",
       "      <td>ÇÒÀÎÁ¡/¸¶Æ®</td>\n",
       "      <td>¿©¼º</td>\n",
       "      <td>30´ë</td>\n",
       "      <td>388196</td>\n",
       "    </tr>\n",
       "    <tr>\n",
       "      <th>76577</th>\n",
       "      <td>20200630</td>\n",
       "      <td>ÇÒÀÎÁ¡/¸¶Æ®</td>\n",
       "      <td>¿©¼º</td>\n",
       "      <td>40´ë</td>\n",
       "      <td>593836</td>\n",
       "    </tr>\n",
       "    <tr>\n",
       "      <th>76578</th>\n",
       "      <td>20200630</td>\n",
       "      <td>ÇÒÀÎÁ¡/¸¶Æ®</td>\n",
       "      <td>¿©¼º</td>\n",
       "      <td>50´ë</td>\n",
       "      <td>552912</td>\n",
       "    </tr>\n",
       "    <tr>\n",
       "      <th>76579</th>\n",
       "      <td>20200630</td>\n",
       "      <td>ÇÒÀÎÁ¡/¸¶Æ®</td>\n",
       "      <td>¿©¼º</td>\n",
       "      <td>60´ë</td>\n",
       "      <td>339458</td>\n",
       "    </tr>\n",
       "  </tbody>\n",
       "</table>\n",
       "<p>76580 rows × 5 columns</p>\n",
       "</div>"
      ],
      "text/plain": [
       "       ¼ÒºñÀÏÀÚ     ¼Òºñ¾÷Á¾  ¼ºº° ¿¬·É´ë  ¼Òºñ°Ç¼ö\n",
       "0      20190101    °¡Àü/°¡±¸  ³²¼º   20´ë      5529\n",
       "1      20190101    °¡Àü/°¡±¸  ³²¼º   30´ë     17536\n",
       "2      20190101    °¡Àü/°¡±¸  ³²¼º   40´ë     22838\n",
       "3      20190101    °¡Àü/°¡±¸  ³²¼º   50´ë     15801\n",
       "4      20190101    °¡Àü/°¡±¸  ³²¼º   60´ë      6772\n",
       "...         ...          ...   ...    ...       ...\n",
       "76575  20200630  ÇÒÀÎÁ¡/¸¶Æ®  ¿©¼º   20´ë    142108\n",
       "76576  20200630  ÇÒÀÎÁ¡/¸¶Æ®  ¿©¼º   30´ë    388196\n",
       "76577  20200630  ÇÒÀÎÁ¡/¸¶Æ®  ¿©¼º   40´ë    593836\n",
       "76578  20200630  ÇÒÀÎÁ¡/¸¶Æ®  ¿©¼º   50´ë    552912\n",
       "76579  20200630  ÇÒÀÎÁ¡/¸¶Æ®  ¿©¼º   60´ë    339458\n",
       "\n",
       "[76580 rows x 5 columns]"
      ]
     },
     "execution_count": 7,
     "metadata": {},
     "output_type": "execute_result"
    }
   ],
   "source": [
    "population2015= data2.loc[5:21][['연령별','총인구(명)']]\n",
    "population2015 = population2015.loc[5:18]\n",
    "del population2015['연령별']\n",
    "population2015.columns=['2015']\n",
    "population1970 = data3.loc[6:19][['연령별','1970','1975','1980','1985','1990','1995','2000','2005','2010']]\n",
    "population2020 = data1.loc[2:18][['가구주의 연령별','2020','2025','2030','2035','2040','2045']]\n",
    "new_data={'가구주의 연령별':'85세 이상','2020':population2020[13:].sum()[1],'2025':population2020[13:].sum()[2],'2030':population2020[13:].sum()[3],'2035':population2020[13:].sum()[4],'2040':population2020[13:].sum()[5],'2045':population2020[13:].sum()[6]}\n",
    "population2020 = population2020.append(new_data, ignore_index=True)\n",
    "population2020 = population2020.drop([13,14,15,16])\n",
    "del population2020['가구주의 연령별']\n",
    "population1970.reset_index(drop=True,inplace=True)\n",
    "population2015.reset_index(drop=True,inplace=True)\n",
    "population2020.reset_index(drop=True,inplace=True)\n",
    "total_population = pd.concat([population1970,population2015,population2020],axis=1)\n"
   ]
  },
  {
   "cell_type": "code",
   "execution_count": null,
   "metadata": {},
   "outputs": [],
   "source": [
    "total_population.to_csv(\"../sample/total_population.csv\", mode='w')\n"
   ]
  },
  {
   "cell_type": "markdown",
   "metadata": {},
   "source": [
    "# 인터넷 이용률  관련 전처리"
   ]
  },
  {
   "cell_type": "code",
   "execution_count": null,
   "metadata": {},
   "outputs": [],
   "source": [
    "internet_rate = pd.read_excel('../sample/연령별_인터넷_이용률_20201013090912.xlsx')"
   ]
  },
  {
   "cell_type": "code",
   "execution_count": null,
   "metadata": {},
   "outputs": [],
   "source": [
    "internet_rate_use = internet_rate[['연령별(1)','2008','2009','2010','2011','2012','2013','2014','2015','2016','2017','2018','2019']]\n",
    "internet_rate_use = internet_rate_use.rename(columns={'연령별(1)':'연령별'})\n",
    "internet_rate_use = internet_rate_use[2:]\n",
    "internet_rate_use = internet_rate_use.drop([8])\n",
    "internet_rate_use.reset_index(drop=True,inplace=True)\n",
    "internet_rate_use.loc[5]['2008':'2014'] = internet_rate_use.loc[5]['2008':'2014'].str.replace('-', '0')\n",
    "internet_rate_use.loc[6]['2008':'2014'] = internet_rate_use.loc[6]['2008':'2014'].str.replace('-', '0')\n"
   ]
  },
  {
   "cell_type": "code",
   "execution_count": null,
   "metadata": {},
   "outputs": [],
   "source": [
    "internet_rate_use.to_csv(\"../sample/internet_rate_use.csv\", mode='w')\n",
    "internet_rate_use[4:5].to_csv(\"../sample/internet_rate_use50.csv\", mode='w')\n",
    "internet_rate_use[5:6].to_csv(\"../sample/internet_rate_use60.csv\", mode='w')\n",
    "internet_rate_use[6:7].to_csv(\"../sample/internet_rate_use70.csv\", mode='w')"
   ]
  },
  {
   "cell_type": "markdown",
   "metadata": {},
   "source": [
    "# 온라인 상품별 취급액"
   ]
  },
  {
   "cell_type": "code",
   "execution_count": null,
   "metadata": {},
   "outputs": [],
   "source": [
    "online_amount = pd.read_excel('../sample//온라인쇼핑몰_취급상품범위별_상품군별거래액_20201013162333.xlsx')"
   ]
  },
  {
   "cell_type": "code",
   "execution_count": null,
   "metadata": {},
   "outputs": [],
   "source": [
    "online_amount = online_amount.rename(columns={'2020. 08 p)':'2020. 08'})\n",
    "online_category_amount = online_amount[1:]\n",
    "online_category_amount.reset_index(drop=True,inplace=True)\n",
    "online_total_amount = online_amount[:1].T\n",
    "online_total_amount\n",
    "online_total_amount = online_total_amount['2017. 02':]\n",
    "online_total_amount.columns = ['합계']\n"
   ]
  },
  {
   "cell_type": "code",
   "execution_count": null,
   "metadata": {},
   "outputs": [],
   "source": [
    "online_category_amount.to_csv(\"../sample/online_category_amount.csv\", mode='w')\n",
    "online_total_amount.to_csv(\"../sample/online_total_amount.csv\", mode='w')"
   ]
  },
  {
   "cell_type": "markdown",
   "metadata": {},
   "source": [
    "# 경제 인구 비율"
   ]
  },
  {
   "cell_type": "code",
   "execution_count": null,
   "metadata": {},
   "outputs": [],
   "source": [
    "economic_population_ratio= pd.read_excel('../sample/연령별_경제활동인구_총괄_20201013143849.xlsx')"
   ]
  },
  {
   "cell_type": "code",
   "execution_count": null,
   "metadata": {},
   "outputs": [],
   "source": [
    "economic_population_ratio = economic_population_ratio.drop([0])\n",
    "economic_population_ratio = economic_population_ratio.T['2010. 03':]\n",
    "economic_population_ratio.columns = ['인구(천명)']\n"
   ]
  },
  {
   "cell_type": "code",
   "execution_count": null,
   "metadata": {},
   "outputs": [],
   "source": [
    "economic_population_ratio.to_csv(\"../sample/economic_population_ratio.csv\", mode='w')"
   ]
  },
  {
   "cell_type": "markdown",
   "metadata": {},
   "source": [
    "# 기간별 온라인 구매수/구매금액"
   ]
  },
  {
   "cell_type": "code",
   "execution_count": null,
   "metadata": {},
   "outputs": [],
   "source": [
    "raw_data = pd.read_csv('../sample/MCO_full_data.csv', sep = \",\")"
   ]
  },
  {
   "cell_type": "code",
   "execution_count": null,
   "metadata": {},
   "outputs": [],
   "source": [
    "d1 = raw_data\n",
    "d1.columns = ['구매날짜','카테고리명','고객성별','고객나이','OS유형','구매금액','구매수']\n",
    "d2 = d1"
   ]
  },
  {
   "cell_type": "code",
   "execution_count": null,
   "metadata": {},
   "outputs": [],
   "source": [
    "d2['구매날짜'] = pd.to_datetime(d2['구매날짜'].astype(str), format='%Y %m %d')\n",
    "index_minus = d2[(d2[\"고객나이\"]<0)| (d2[\"고객나이\"] >100) ].index\n"
   ]
  },
  {
   "cell_type": "code",
   "execution_count": null,
   "metadata": {},
   "outputs": [],
   "source": [
    "d3 = d2.drop(index_minus)"
   ]
  },
  {
   "cell_type": "code",
   "execution_count": null,
   "metadata": {},
   "outputs": [],
   "source": [
    "def topN(data, target_age, N):\n",
    "    table_target_age = data[data[\"고객나이\"] == target_age]\n",
    "    increase_topN = table_target_age.sort_values(by = \"구매금액_변화율\", ascending=False).head(N)\n",
    "    increase_topN_rate= increase_topN[\"구매금액_변화율\"]\n",
    "    # print(increase_topN_rate)\n",
    "    \n",
    "    # print(\"변화율 증가 TOP {} :\".format(N), increase_topN_rate.index)\n",
    "    # print(\"\")\n",
    "    # print(\"\")\n",
    "\n",
    "    decrease_topN = table_target_age.sort_values(by = \"구매금액_변화율\", ascending=True).head(N)\n",
    "    decrease_topN_rate = decrease_topN[\"구매금액_변화율\"]\n",
    "    # print(decrease_topN_rate) \n",
    "\n",
    "    \n",
    "    # print(\"변화율 감소 TOP {} :\".format(N), decrease_topN_rate.index)\n",
    "\n",
    "    total_topN = table_target_age.sort_values(by = \"구매금액_변화율\", ascending=False)\n",
    "    total_topN_rate = total_topN[\"구매금액_변화율\"]\n",
    "\n",
    "\n",
    "    # 전역변수 데이터프레임 생성 \n",
    "    globals()[\"increase_top{}_{}\".format(N, target_age)] = pd.DataFrame(increase_topN_rate)\n",
    "    globals()[\"decrease_top{}_{}\".format(N, target_age)] = pd.DataFrame(decrease_topN_rate)\n",
    "    globals()[\"total_top{}_{}\".format(N, target_age)] = pd.DataFrame(total_topN_rate)\n",
    "    globals()[\"total_topN{}_{}\".format(N, target_age)] = pd.DataFrame(total_topN)\n",
    "\n",
    "    # return increase_topN_rate , decrease_topN_rate\n",
    "    \n"
   ]
  },
  {
   "cell_type": "code",
   "execution_count": null,
   "metadata": {},
   "outputs": [],
   "source": [
    "def processing(d2019,d2020,name):\n",
    "    d2019_group_SUM = d2019.groupby(by=['카테고리명', '고객나이' ], as_index=False).sum()\n",
    "    d2020_group_SUM = d2020.groupby(by=['카테고리명', '고객나이' ], as_index=False).sum()\n",
    "\n",
    "    d2019_group_MEAN = d2019.groupby(by=['카테고리명', '고객나이' ], as_index=False).mean()\n",
    "    d2020_group_MEAN = d2020.groupby(by=['카테고리명', '고객나이' ], as_index=False).mean()\n",
    "    d2019_group_MEAN.set_index('카테고리명','고객나이' , inplace=True)\n",
    "    d2020_group_MEAN.set_index('카테고리명','고객나이' ,inplace=True)\n",
    "\n",
    "    merged_data_MEAN = d2019_group_MEAN.merge(d2020_group_MEAN, on=['카테고리명','고객나이'], how='right')\n",
    "\n",
    "    merged_data_MEAN = merged_data_MEAN.fillna(0)\n",
    "\n",
    "    merged_data_MEAN.columns = [\"고객나이\", \"구매금액_19년\", \"구매수_19년\", \"구매금액_20년\",\"구매수_20년\"]   # 컬럼 이름 바꾸기 \n",
    "\n",
    "    merged_data_MEAN['구매금액_변화'] = (merged_data_MEAN['구매금액_20년']-merged_data_MEAN['구매금액_19년'])\n",
    "    merged_data_MEAN['구매수_변화'] = (merged_data_MEAN['구매수_20년']-merged_data_MEAN['구매수_19년'])\n",
    "\n",
    "    merged_data_MEAN['구매금액_변화율'] = (merged_data_MEAN['구매금액_20년']-merged_data_MEAN['구매금액_19년'])/merged_data_MEAN['구매금액_19년']\n",
    "    merged_data_MEAN['구매수_변화율'] = (merged_data_MEAN['구매수_20년']-merged_data_MEAN['구매수_19년'])/merged_data_MEAN['구매수_19년']\n",
    "\n",
    "    merged_MEAN_table = merged_data_MEAN\n",
    "\n",
    "    for i in range(0,110,10):\n",
    "        topN(merged_MEAN_table, i, 20)\n",
    "\n",
    "    total_top20_10.columns=[10]\n",
    "    total_top20_20.columns=[20]\n",
    "    total_top20_30.columns=[30]\n",
    "    total_top20_40.columns=[40]\n",
    "    total_top20_50.columns=[50]\n",
    "    total_top20_60.columns=[60]\n",
    "    total_top20_70.columns=[70]\n",
    "    total_top20_80.columns=[80]\n",
    "    total_top20_90.columns=[90]\n",
    "\n",
    "    covid = pd.concat([total_top20_10,total_top20_20,total_top20_30,total_top20_40,total_top20_50,total_top20_60,total_top20_70,total_top20_80,total_top20_90],axis=1)\n",
    "\n",
    "    purchase_amount = pd.DataFrame({\n",
    "        '구매금액 19년':[total_topN20_10['구매금액_19년'].sum(),total_topN20_20['구매금액_19년'].sum(),total_topN20_30['구매금액_19년'].sum(),total_topN20_40['구매금액_19년'].sum(),total_topN20_50['구매금액_19년'].sum(),total_topN20_60['구매금액_19년'].sum(),total_topN20_70['구매금액_19년'].sum(),total_topN20_80['구매금액_19년'].sum(),total_topN20_90['구매금액_19년'].sum()],\n",
    "        '구매금액_20년':[total_topN20_10['구매금액_20년'].sum(),total_topN20_20['구매금액_20년'].sum(),total_topN20_30['구매금액_20년'].sum(),total_topN20_40['구매금액_20년'].sum(),total_topN20_50['구매금액_20년'].sum(),total_topN20_60['구매금액_20년'].sum(),total_topN20_70['구매금액_20년'].sum(),total_topN20_80['구매금액_20년'].sum(),total_topN20_90['구매금액_20년'].sum()],\n",
    "        '구매금액__변화':[total_topN20_10['구매금액_변화'].sum(),total_topN20_20['구매금액_변화'].sum(),total_topN20_30['구매금액_변화'].sum(),total_topN20_40['구매금액_변화'].sum(),total_topN20_50['구매금액_변화'].sum(),total_topN20_60['구매금액_변화'].sum(),total_topN20_70['구매금액_변화'].sum(),total_topN20_80['구매금액_변화'].sum(),total_topN20_90['구매금액_변화'].sum()]\n",
    "    })\n",
    "\n",
    "    purchase_amount.index=[10,20,30,40,50,60,70,80,90]\n",
    "\n",
    "    purchases_number = pd.DataFrame({\n",
    "        '구매수_19년':[total_topN20_10['구매수_19년'].sum(),total_topN20_20['구매수_19년'].sum(),total_topN20_30['구매수_19년'].sum(),total_topN20_40['구매수_19년'].sum(),total_topN20_50['구매수_19년'].sum(),total_topN20_60['구매수_19년'].sum(),total_topN20_70['구매수_19년'].sum(),total_topN20_80['구매수_19년'].sum(),total_topN20_90['구매수_19년'].sum()],\n",
    "        '구매수_20년':[total_topN20_10['구매수_20년'].sum(),total_topN20_20['구매수_20년'].sum(),total_topN20_30['구매수_20년'].sum(),total_topN20_40['구매수_20년'].sum(),total_topN20_50['구매수_20년'].sum(),total_topN20_60['구매수_20년'].sum(),total_topN20_70['구매수_20년'].sum(),total_topN20_80['구매수_20년'].sum(),total_topN20_90['구매수_20년'].sum()],\n",
    "        '구매수_변화':[total_topN20_10['구매수_변화'].sum(),total_topN20_20['구매수_변화'].sum(),total_topN20_30['구매수_변화'].sum(),total_topN20_40['구매수_변화'].sum(),total_topN20_50['구매수_변화'].sum(),total_topN20_60['구매수_변화'].sum(),total_topN20_70['구매수_변화'].sum(),total_topN20_80['구매수_변화'].sum(),total_topN20_90['구매수_변화'].sum()],\n",
    "        '구매수_변화율':[total_topN20_10['구매수_변화율'].sum(),total_topN20_20['구매수_변화율'].sum(),total_topN20_30['구매수_변화율'].sum(),total_topN20_40['구매수_변화율'].sum(),total_topN20_50['구매수_변화율'].sum(),total_topN20_60['구매수_변화율'].sum(),total_topN20_70['구매수_변화율'].sum(),total_topN20_80['구매수_변화율'].sum(),total_topN20_90['구매수_변화율'].sum()]\n",
    "    })\n",
    "\n",
    "    purchases_number.index=[10,20,30,40,50,60,70,80,90]\n",
    "\n",
    "    covid.to_csv(\"../sample/\"+name +\"_covid.csv\", mode='w')\n",
    "    purchase_amount.to_csv(\"../sample/\"+name+\"_purchase_amount.csv\",mode='w')\n",
    "    purchases_number.to_csv(\"../sample/\"+name+\"_purchases_number.csv\",mode='w')\n"
   ]
  },
  {
   "cell_type": "code",
   "execution_count": null,
   "metadata": {},
   "outputs": [],
   "source": [
    "# 국내 코로나 기간\n",
    "domestic_corona2019 = d3[d3[\"구매날짜\"]<=  \"2019-06-30\"]\n",
    "domestic_corona2020 = d3[d3[\"구매날짜\"]>=  \"2020-01-01\"]\n",
    "\n",
    "# 강도높은 사회적 거리두기 기간\n",
    "Intense2019 = d3[d3[\"구매날짜\"]<=  \"2019-05-05\"]\n",
    "Intense2019 = Intense2019[Intense2019[\"구매날짜\"]>  \"2019-03-02\"]\n",
    "\n",
    "Intense2020 = d3[d3[\"구매날짜\"]<=  \"2020-05-05\"]\n",
    "Intense2020 = Intense2020[Intense2020[\"구매날짜\"]>  \"2020-03-02\"]\n",
    "\n",
    "#생활속 사회적 거리두기 기간\n",
    "life2019 = d3[d3[\"구매날짜\"]<=  \"2019-06-30\"]\n",
    "life2019 = life2019[life2019[\"구매날짜\"]>  \"2019-05-06\"]\n",
    "\n",
    "life2020 = d3[d3[\"구매날짜\"]<=  \"2020-06-30\"]\n",
    "life2020 = life2020[life2020[\"구매날짜\"]>  \"2020-05-06\"]"
   ]
  },
  {
   "cell_type": "code",
   "execution_count": null,
   "metadata": {},
   "outputs": [],
   "source": [
    "processing(domestic_corona2019,domestic_corona2020,'domestic')\n",
    "processing(Intense2019,Intense2020,'intense')\n",
    "processing(life2019,life2020,'life')"
   ]
  }
 ],
 "metadata": {
  "kernelspec": {
   "display_name": "Python 3",
   "language": "python",
   "name": "python3"
  },
  "language_info": {
   "codemirror_mode": {
    "name": "ipython",
    "version": 3
   },
   "file_extension": ".py",
   "mimetype": "text/x-python",
   "name": "python",
   "nbconvert_exporter": "python",
   "pygments_lexer": "ipython3",
   "version": "3.8.2"
  }
 },
 "nbformat": 4,
 "nbformat_minor": 4
}
